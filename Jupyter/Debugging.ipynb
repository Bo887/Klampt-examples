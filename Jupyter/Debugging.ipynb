{
 "cells": [
  {
   "cell_type": "code",
   "execution_count": 1,
   "metadata": {},
   "outputs": [
    {
     "data": {
      "application/javascript": [
       "//debugging to see if jupyter-klampt-widget is installed properly\n",
       "console.log(require.s.contexts._.defined);\n",
       "var kf = require('nbextensions/klampt/KlamptFrontend');\n",
       "console.log(kf);"
      ],
      "text/plain": [
       "<IPython.core.display.Javascript object>"
      ]
     },
     "metadata": {},
     "output_type": "display_data"
    }
   ],
   "source": [
    "%%javascript\n",
    "//debugging to see if jupyter-klampt-widget is installed properly\n",
    "console.log(require.s.contexts._.defined);\n",
    "var kf = require('nbextensions/klampt/KlamptFrontend');\n",
    "console.log(kf);"
   ]
  },
  {
   "cell_type": "code",
   "execution_count": 2,
   "metadata": {},
   "outputs": [
    {
     "name": "stdout",
     "output_type": "stream",
     "text": [
      "***  klampt.vis: using Qt5 as the visualization backend  ***\n"
     ]
    },
    {
     "data": {
      "application/vnd.jupyter.widget-view+json": {
       "model_id": "2f3b36cd05974d3da235578a8a0bf81b",
       "version_major": 2,
       "version_minor": 0
      },
      "text/plain": [
       "KlamptWidget(scene={u'object': {u'matrix': [1, 0, 0, 0, 0, 0, -1, 0, 0, 1, 0, 0, 0, 0, 0, 1], u'uuid': u'bg8b0…"
      ]
     },
     "metadata": {},
     "output_type": "display_data"
    }
   ],
   "source": [
    "import time\n",
    "from klampt import *\n",
    "from klampt.math import vectorops,so3,se3\n",
    "from klampt.vis.ipython import KlamptWidget\n",
    "\n",
    "world = WorldModel()\n",
    "world.loadFile(\"../data/athlete_plane.xml\")\n",
    "kvis = KlamptWidget(world)\n",
    "#If you'd like to hide the print output, uncomment this line\n",
    "#clear_output()\n",
    "display(kvis)\n",
    "\n",
    "#Controls:\n",
    "#left mouse click to rotate the view\n",
    "#right click or ctrl+click to pan the view\n",
    "#mouse wheel or shift+click to zoom the view"
   ]
  },
  {
   "cell_type": "code",
   "execution_count": 3,
   "metadata": {
    "collapsed": true
   },
   "outputs": [],
   "source": [
    "#add testing\n",
    "\n",
    "robot = world.robot(0)\n",
    "q = robot.getConfig()\n",
    "q[2] += 0.5\n",
    "q1 = [v for v in q]\n",
    "q[2] += 0.5\n",
    "q2 = [v for v in q]\n",
    "#kvis.add('milestones',[q1,q2])\n",
    "#kvis.set_color('milestones',0,1,0,0.5)\n",
    "\n",
    "from klampt.model.trajectory import Trajectory\n",
    "traj = Trajectory([0,1],[q1,q2])\n",
    "q1[0] += 0.5\n",
    "q2[0] += 0.5\n",
    "kvis.add('milestones',traj)\n",
    "kvis.setColor('milestones',0,1,0,0.5)"
   ]
  },
  {
   "cell_type": "code",
   "execution_count": 4,
   "metadata": {},
   "outputs": [
    {
     "data": {
      "application/javascript": [
       "var w = window.open('', '');\n",
       "w.document.title = \"Screenshot\";\n",
       "var img = new Image();\n",
       "img.src = $(\".p-Widget > div > canvas\")[0].toDataURL();\n",
       "w.document.body.appendChild(img);  "
      ],
      "text/plain": [
       "<IPython.core.display.Javascript object>"
      ]
     },
     "metadata": {},
     "output_type": "display_data"
    }
   ],
   "source": [
    "%%javascript\n",
    "var w = window.open('', '');\n",
    "w.document.title = \"Screenshot\";\n",
    "var img = new Image();\n",
    "img.src = $(\".p-Widget > div > canvas\")[0].toDataURL();\n",
    "w.document.body.appendChild(img);  "
   ]
  },
  {
   "cell_type": "code",
   "execution_count": null,
   "metadata": {
    "collapsed": true
   },
   "outputs": [],
   "source": []
  }
 ],
 "metadata": {
  "kernelspec": {
   "display_name": "Python 2",
   "language": "python",
   "name": "python2"
  },
  "language_info": {
   "codemirror_mode": {
    "name": "ipython",
    "version": 2
   },
   "file_extension": ".py",
   "mimetype": "text/x-python",
   "name": "python",
   "nbconvert_exporter": "python",
   "pygments_lexer": "ipython2",
   "version": "2.7.12"
  }
 },
 "nbformat": 4,
 "nbformat_minor": 2
}
